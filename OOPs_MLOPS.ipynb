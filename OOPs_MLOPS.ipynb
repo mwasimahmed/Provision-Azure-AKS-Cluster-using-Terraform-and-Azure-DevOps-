{
  "nbformat": 4,
  "nbformat_minor": 0,
  "metadata": {
    "colab": {
      "provenance": [],
      "include_colab_link": true
    },
    "kernelspec": {
      "name": "python3",
      "display_name": "Python 3"
    },
    "language_info": {
      "name": "python"
    }
  },
  "cells": [
    {
      "cell_type": "markdown",
      "metadata": {
        "id": "view-in-github",
        "colab_type": "text"
      },
      "source": [
        "<a href=\"https://colab.research.google.com/github/mwasimahmed/Provision-Azure-AKS-Cluster-using-Terraform-and-Azure-DevOps-/blob/master/OOPs_MLOPS.ipynb\" target=\"_parent\"><img src=\"https://colab.research.google.com/assets/colab-badge.svg\" alt=\"Open In Colab\"/></a>"
      ]
    },
    {
      "cell_type": "code",
      "execution_count": null,
      "metadata": {
        "colab": {
          "base_uri": "https://localhost:8080/"
        },
        "id": "DYa4AtjBkMpZ",
        "outputId": "6f2311ff-450e-4c1c-a739-408486c26cc1"
      },
      "outputs": [
        {
          "output_type": "stream",
          "name": "stdout",
          "text": [
            "normalized data: [0.4117647058823529, 1.0, 0.0, 0.058823529411764705]\n",
            "normalized data: [0.37931034482758635, 0.689655172413793, 1.0, 0.0]\n"
          ]
        }
      ],
      "source": [
        "#Funcntion & modularization\n",
        "\n",
        "def preprocess_data(data):\n",
        "  min_val = min(data)\n",
        "  max_val = max(data)\n",
        "  normalized = [(x-min_val)/(max_val-min_val) for x in data]\n",
        "  return normalized\n",
        "\n",
        "print(\"normalized data:\",preprocess_data([100,200,30,40]))\n",
        "print(\"normalized data:\",preprocess_data([5.4, 6.3, 7.2,4.3]))"
      ]
    },
    {
      "cell_type": "code",
      "source": [
        "lst = [5.4, 6.3, 7.2,4.3]\n",
        "min_val  = min(lst)\n",
        "max_val = max(lst)\n",
        "print([(x-min_val)/(max_val-min_val) for x in lst])\n",
        "\n",
        "lst1=[100,200,30,40]\n",
        "min_val  = min(lst1)\n",
        "max_val = max(lst1)\n",
        "print([(x-min_val)/(max_val-min_val) for x in lst1])"
      ],
      "metadata": {
        "colab": {
          "base_uri": "https://localhost:8080/"
        },
        "id": "8dkyH4a32IRc",
        "outputId": "ddfd86c5-16eb-4e86-e84b-dde43a02307b"
      },
      "execution_count": null,
      "outputs": [
        {
          "output_type": "stream",
          "name": "stdout",
          "text": [
            "[0.37931034482758635, 0.689655172413793, 1.0, 0.0]\n",
            "[-0.14470588235294118, -0.13941176470588235, -0.13411764705882354, -0.1511764705882353]\n"
          ]
        }
      ]
    },
    {
      "cell_type": "code",
      "source": [
        "(5.4-4.3)/(7.2-4.3)"
      ],
      "metadata": {
        "colab": {
          "base_uri": "https://localhost:8080/"
        },
        "id": "hMXy0irF274q",
        "outputId": "4c32eeea-4ab2-45ed-cc54-38bd7ce84fe9"
      },
      "execution_count": null,
      "outputs": [
        {
          "output_type": "execute_result",
          "data": {
            "text/plain": [
              "0.37931034482758635"
            ]
          },
          "metadata": {},
          "execution_count": 5
        }
      ]
    },
    {
      "cell_type": "code",
      "source": [
        "min_val = min(lst)\n",
        "max_val = max(lst)\n",
        "\n",
        "for x in lst:\n",
        "  print((x-min_val)/(max_val-min_val))\n"
      ],
      "metadata": {
        "colab": {
          "base_uri": "https://localhost:8080/"
        },
        "id": "1Xuck8tD5O4L",
        "outputId": "e0fbf7b5-942c-45e5-db6c-ca71245a0ba7"
      },
      "execution_count": null,
      "outputs": [
        {
          "output_type": "stream",
          "name": "stdout",
          "text": [
            "0.37931034482758635\n",
            "0.689655172413793\n",
            "1.0\n",
            "0.0\n"
          ]
        }
      ]
    },
    {
      "cell_type": "markdown",
      "source": [
        "Class and Objects"
      ],
      "metadata": {
        "id": "KI0mEr5Q-ahg"
      }
    },
    {
      "cell_type": "code",
      "source": [
        "class TShirt:\n",
        "  def __init__(self,color,size):\n",
        "    self.color = color\n",
        "    self.size = size\n",
        "\n",
        "shirt1 = TShirt(\"Red\",\"M\")\n",
        "shirt2 = TShirt(\"Blue\",\"L\")\n",
        "\n",
        "print(shirt1.color,shirt1.size) #Red\n",
        "print(shirt2.color,shirt2.size) #Blue"
      ],
      "metadata": {
        "colab": {
          "base_uri": "https://localhost:8080/"
        },
        "id": "EYIivqZJ8NOB",
        "outputId": "1518e448-3bab-45f3-ff4f-774a08147dd4"
      },
      "execution_count": null,
      "outputs": [
        {
          "output_type": "stream",
          "name": "stdout",
          "text": [
            "Red M\n",
            "Blue L\n"
          ]
        }
      ]
    },
    {
      "cell_type": "markdown",
      "source": [
        "Encapsulation"
      ],
      "metadata": {
        "id": "WW5CUFW8-erQ"
      }
    },
    {
      "cell_type": "code",
      "source": [
        "class Tshirt:\n",
        "  def __init__(self,color):\n",
        "    self.__secret_tag = \"Internal Price\" ##Hidden info\n",
        "    self.color = color\n",
        "\n",
        "  def get_tag(self):\n",
        "    return f\"price info accessed safely: {self.__secret_tag}\"\n",
        "\n",
        "shirt = Tshirt(\"Blue\")\n",
        "print(shirt.get_tag())\n",
        "# print(shirt.__secret_tag)\n",
        "print(shirt.color)\n"
      ],
      "metadata": {
        "colab": {
          "base_uri": "https://localhost:8080/"
        },
        "id": "yM74eyRv-eZP",
        "outputId": "d27f1f6b-1ebe-41ac-eb71-4586377a7284"
      },
      "execution_count": null,
      "outputs": [
        {
          "output_type": "stream",
          "name": "stdout",
          "text": [
            "price info accessed safely: Internal Price\n",
            "Blue\n"
          ]
        }
      ]
    },
    {
      "cell_type": "markdown",
      "source": [
        "Abstraction"
      ],
      "metadata": {
        "id": "R1q1Mnj1_mpw"
      }
    }
  ]
}